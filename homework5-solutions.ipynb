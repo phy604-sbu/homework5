{
 "cells": [
  {
   "cell_type": "markdown",
   "metadata": {},
   "source": [
    "# PHY 604: Homework #5 Solutions"
   ]
  },
  {
   "cell_type": "code",
   "execution_count": 1,
   "metadata": {
    "collapsed": true
   },
   "outputs": [],
   "source": [
    "import numpy as np\n",
    "import matplotlib.pyplot as plt\n",
    "%matplotlib inline"
   ]
  },
  {
   "cell_type": "markdown",
   "metadata": {},
   "source": [
    "<div style=\"background-color: powderblue; color: black; padding: 10px;\">\n",
    "\n",
    "1. _Implicit advection_ Consider the linear advection equation:\n",
    "\\begin{equation}\n",
    "a_t + u a_x = 0\n",
    "\\end{equation}\n",
    "In class, we saw that an explicit first-order finite-difference upwind\n",
    "discretization of this resulted in a stable method.  Here we consider\n",
    "an implicit discretization of this same upwind method--now the\n",
    "spatial derivative is evaluated at the new time.\n",
    "\n",
    "<p>**a.** Perform linear stability analysis (as we did in class) and \n",
    "show that this method is stable for any choice of Courant number.\n",
    "</div>"
   ]
  },
  {
   "cell_type": "markdown",
   "metadata": {},
   "source": [
    "Our discretized equation is:\n",
    "\\begin{equation}\n",
    "a_i^{n+1} = a_i^n - C (a_i^{n+1} - a_{i-1}^{n+1})\n",
    "\\end{equation}\n",
    "\n",
    "Introducing a Fourier mode,\n",
    "\\begin{equation}\n",
    "a_i^n = A^n e^{Ii\\theta}\n",
    "\\end{equation}\n",
    "(where $I = \\sqrt{-1}$ is the imaginary unit), we have:\n",
    "\\begin{equation}\n",
    "A^{n+1}e^{Ii\\theta} = A^n e^{Ii\\theta} - C (A^{n+1} e^{Ii\\theta} - A^{n+1} e^{I(i-1)\\theta} )\n",
    "\\end{equation}\n",
    "Simplifying:\n",
    "\\begin{equation}\n",
    "\\frac{A^{n+1}}{A^n} = \\frac{1}{1 + C(1- e^{-I\\theta})} = \\frac{1}{1 + C - C\\cos\\theta + I C \\sin\\theta}\n",
    "\\end{equation}\n",
    "\n",
    "The magnitude of this is:\n",
    "\\begin{equation}\n",
    "\\left | \\frac{A^{n+1}}{A^n} \\right |^2 = \\left [ 1 + 2C(1+C) (1 - \\cos \\theta) \\right ]^{-1}\n",
    "\\end{equation}\n",
    "Regardless of the value of $\\theta$, we see that \n",
    "\\begin{equation}\n",
    "\\left | \\frac{A^{n+1}}{A^n} \\right |^2  \\le 1\n",
    "\\end{equation}\n",
    "\n",
    "Therefore, we are stable for any $C>0$."
   ]
  },
  {
   "cell_type": "markdown",
   "metadata": {},
   "source": [
    "<div style=\"background-color: powderblue; color: black; padding: 10px;\">\n",
    "\n",
    "**b.** Solve this implicit discretization numerically with\n",
    "periodic boundary conditions.\n",
    "\n",
    "<p>When you write this out, you will find that you have a coupled linear\n",
    "system of equations that can be written in a matrix form.  The matrix\n",
    "is almost tridiagonal, except for a single element in a corner\n",
    "resulting from the periodicity.  You can use the periodic tridiagonal\n",
    "solver from a previous homework to solve this (or use a general\n",
    "matrix solver if you wish).\n",
    "\n",
    "<p>Make plots of the solution with 64 and 256 grid points with $C = 0.5, 1, 10$.\n",
    "\n",
    "</div>"
   ]
  },
  {
   "cell_type": "markdown",
   "metadata": {
    "collapsed": true
   },
   "source": [
    "To start, here's a class that manages a finite-difference grid.  We'll start counting at index 0, and since this is finite-difference, we'll have points 0 and N-1 on the boundary.  But these are the same point (cause we are periodic), so we only really need to update points 1, ..., N-1"
   ]
  },
  {
   "cell_type": "code",
   "execution_count": 2,
   "metadata": {
    "collapsed": true
   },
   "outputs": [],
   "source": [
    "class FDGrid(object):\n",
    "\n",
    "    def __init__(self, nx, xmin=0.0, xmax=1.0):\n",
    "\n",
    "        self.xmin = xmin\n",
    "        self.xmax = xmax\n",
    "        self.nx = nx\n",
    "\n",
    "        # python is zero-based.  We are assuming periodic BCs, so\n",
    "        # points 0 and N-1 are the same.  Set some integer indices to\n",
    "        # allow us to easily access points 1 through N-1.  Point 0\n",
    "        # won't be explicitly updated, but rather filled by the BC\n",
    "        # routine.\n",
    "        self.ilo = 1\n",
    "        self.ihi = nx-1\n",
    "\n",
    "        # physical coords\n",
    "        self.dx = (xmax - xmin)/(nx-1)\n",
    "        self.x = xmin + np.arange(nx)*self.dx\n",
    "\n",
    "        # storage for the solution\n",
    "        self.a = np.zeros((nx), dtype=np.float64)\n",
    "        self.ainit = np.zeros((nx), dtype=np.float64)\n",
    "\n",
    "    def scratch_array(self):\n",
    "        \"\"\" return a scratch array dimensioned for our grid \"\"\"\n",
    "        return np.zeros((self.nx), dtype=np.float64)\n",
    "\n",
    "    def fill_BCs(self):\n",
    "        \"\"\" we don't explicitly update point 0, since it is identical\n",
    "            to N-1, so fill it here \"\"\"\n",
    "        self.a[0] = self.a[self.ihi]"
   ]
  },
  {
   "cell_type": "markdown",
   "metadata": {},
   "source": [
    "Our update appears as\n",
    "$$a_i^{n+1} (1 + C) - C a_{i-1}^{n+1} = a_i^n$$\n",
    "since we are not updating zone 0, but instead filling it via the boundary conditions to be the same as N-1, our matrix will just have a diagonal of $1+C$ and an lower diagonal of $-C$, with a corner element of $-C$ too, owing to the periodicity."
   ]
  },
  {
   "cell_type": "code",
   "execution_count": 3,
   "metadata": {
    "collapsed": true
   },
   "outputs": [],
   "source": [
    "def evolve(nx, C, u, tmax):\n",
    "\n",
    "    # create the grid\n",
    "    g = FDGrid(nx)\n",
    "\n",
    "    # time info\n",
    "    dt = C*g.dx/u\n",
    "    t = 0.0\n",
    "\n",
    "    # initialize the data -- tophat\n",
    "    g.a[np.logical_and(g.x >= 0.333, g.x <= 0.666)] = 1.0\n",
    "\n",
    "    g.ainit[:] = g.a.copy()\n",
    "\n",
    "    # evolution loop -- we have an N-1 x N-1 matrix, since we are\n",
    "    # not evolving point 0\n",
    "    A = np.zeros((g.nx-1, g.nx-1), dtype=np.float64)\n",
    "\n",
    "    # fill the boundary conditions\n",
    "    g.fill_BCs()\n",
    "\n",
    "    while t < tmax:\n",
    "\n",
    "        # create the matrix\n",
    "\n",
    "        # loop over rows [ilo,ihi] and construct the matrix.  This will\n",
    "        # be almost bidiagonal, but with the upper right entry also\n",
    "        # nonzero.\n",
    "        for i in range(g.nx-1):\n",
    "            A[i,i] = 1.0 + C\n",
    "            A[i,i-1] = -C\n",
    "\n",
    "\n",
    "        # create the RHS -- this holds all entries except for a[0]\n",
    "        b = g.a[g.ilo:g.ihi+1]\n",
    "\n",
    "        # solve the system\n",
    "        anew = np.linalg.solve(A, b)\n",
    "\n",
    "        g.a[g.ilo:g.ihi+1] = anew[:]\n",
    "\n",
    "        g.fill_BCs()\n",
    "\n",
    "        t += dt\n",
    "\n",
    "    return g"
   ]
  },
  {
   "cell_type": "markdown",
   "metadata": {},
   "source": [
    "This driver runs the evolution at a given resolution for a number of different CFL values"
   ]
  },
  {
   "cell_type": "code",
   "execution_count": 4,
   "metadata": {
    "collapsed": true
   },
   "outputs": [],
   "source": [
    "def run_and_plot(nx):\n",
    "    u = 1.0\n",
    "    tmax = 1.0/u\n",
    "\n",
    "    CFL = [0.5, 1.0, 10.0]\n",
    "\n",
    "    for C in CFL:\n",
    "        g = evolve(nx, C, u, tmax)\n",
    "\n",
    "        plt.plot(g.x[g.ilo:g.ihi+1], g.a[g.ilo:g.ihi+1], label=\"C = %3.2f\" % (C))\n",
    "\n",
    "    plt.plot(g.x[g.ilo:g.ihi+1], g.ainit[g.ilo:g.ihi+1], ls=\":\", label=\"initial conditions\")\n",
    "\n",
    "    plt.title(\"N = %d\" % (nx))\n",
    "    plt.xlabel(\"x\")\n",
    "\n",
    "    plt.legend(frameon=False, fontsize=\"small\")"
   ]
  },
  {
   "cell_type": "code",
   "execution_count": 5,
   "metadata": {},
   "outputs": [
    {
     "data": {
      "image/png": "[encoded data removed]",
      "text/plain": [
       "<matplotlib.figure.Figure at 0x7f04a663c160>"
      ]
     },
     "metadata": {},
     "output_type": "display_data"
    }
   ],
   "source": [
    "run_and_plot(64)"
   ]
  },
  {
   "cell_type": "code",
   "execution_count": 6,
   "metadata": {},
   "outputs": [
    {
     "data": {
      "image/png": "[encoded data removed]",
      "text/plain": [
       "<matplotlib.figure.Figure at 0x7f04a663c1d0>"
      ]
     },
     "metadata": {},
     "output_type": "display_data"
    }
   ],
   "source": [
    "run_and_plot(256)"
   ]
  },
  {
   "cell_type": "markdown",
   "metadata": {},
   "source": [
    "<div style=\"background-color: powderblue; color: black; padding: 10px;\">\n",
    "2. In class, we discussed the linear advection equati\n",
    "on:\n",
    "\\begin{equation}\n",
    "a_t + [u a]_x = 0\n",
    "\\end{equation}\n",
    "where $a$ is the advected quantity and $u > 0$ is the velocity.  We've\n",
    "written this in conservative form, with a flux, $f(a) = ua$.  Here's\n",
    "we consider a method-of-lines approach to integrating the system.  We\n",
    "saw that the finite-volume approach begins by integrating our\n",
    "conservation law over space, giving:\n",
    "\\begin{equation}\n",
    "\\frac{\\partial a_i}{\\partial t} = -\\frac{1}{\\Delta x} \\left \\{ [f(a)]_{i+1/2} - \n",
    "[f(a)]_{i-1/2} \\right \\}\n",
    "\\end{equation}\n",
    "\n",
    "<p>We will solve this using the method-of-lines approach, using a\n",
    "2nd-order Runge-Kutta integrator to do the time integration.  To\n",
    "construct the fluxes, we will use piecewise linear reconstruction in a zone:\n",
    "![grid](riemann-mol.png)\n",
    "\n",
    "Here, the cell-averages, $a_i$, are indicated by the dotted lines.  We\n",
    "do piecewise linear reconstruction to create a slope in each cell (the\n",
    "red lines) and use the value of these lines on the interface to\n",
    "evaluate the flux.  Notice that there are two potential states on each\n",
    "interface---for the $i+1/2$ interface, these are drawn as the blue\n",
    "$\\times$'s.  This is where we use upwinding---for $u>0$, we always take\n",
    "the left state on the interface.\n",
    "\n",
    "<p>To solve this using an ODE integrator in time, you will need to\n",
    "evaluate the righthand side of the above equation (the divergence of the\n",
    "flux).  The procedure for this is as follows:\n",
    "  <ul>\n",
    "      <li>Fill the ghost cells with your boundary conditions.</li>\n",
    "\n",
    "  <li>Do linear reconstruction in each zone as:\n",
    "    $$\\Delta a_i = \\frac{1}{2} (a_{i+1} - a_{i-1})$$ Notice that we do not\n",
    "    divide by $\\Delta x$ in this slope definition.\n",
    "\n",
    "    You'll need to do this reconstruction in one ghost cell, so you'll\n",
    "    need 2 ghostcells on each side of the domain in order to compute all\n",
    "    the needed slopes.</li>\n",
    "\n",
    "  <li>Construct the interface state on each interface using the slope\n",
    "    just to the left of the interface:\n",
    "    $$a_{i+1/2} = a_i + \\frac{1}{2} \\Delta a_i$$</li>\n",
    "\n",
    "  <li>Compute the flux through the interface as\n",
    "    $$[f(a)]_{i+1/2} = u a_{i+1/2}$$</li>\n",
    "  </ul>\n",
    "\n",
    "\n",
    "Solve this equation using 2nd-order Runge-Kutta for the time-integration.\n",
    "This means that you'll do the flux divergence construction outlined above twice\n",
    "for each timestep.\n",
    "\n",
    "<p>Pick a value of the Courant number, $C = 0.5$, and work\n",
    "on a domain $[0,1]$ with periodic boundary conditions.  By choosing\n",
    "the number of zones, $N$, you can compute the timestep,\n",
    "$$\\Delta t = \\frac{C \\Delta x}{|u|}$$\n",
    "    </div>"
   ]
  },
  {
   "cell_type": "markdown",
   "metadata": {},
   "source": [
    "<div style=\"background-color: powderblue; color: black; padding: 10px;\">\n",
    "\n",
    "**a.** Solve this for one period with $N = 64$, with the following initial conditions:\n",
    "\n",
    "  <ul>\n",
    "    <li>Gaussian: $$a(x, t=0) = 1 + e^{-60 (x - 1/2)^2}$$</li>\n",
    "\n",
    "    <li>Tophat: $$a(x, t=0) = \\begin{cases} 0 & x < 1/3 \\\\ 1 & 1/3 \\le x \\le 2/3\n",
    "      \\\\ 0 & x > 2/3 \\end{cases}$$</li>\n",
    "  </ul>\n",
    "      </div>"
   ]
  },
  {
   "cell_type": "markdown",
   "metadata": {},
   "source": [
    "To start, here's our grid class.  It is similar to the finite-volume one above, except it handles our boundary conditions (with multiple ghost cells)."
   ]
  },
  {
   "cell_type": "code",
   "execution_count": 7,
   "metadata": {
    "collapsed": true
   },
   "outputs": [],
   "source": [
    "class FVGrid(object):\n",
    "\n",
    "    def __init__(self, nx, ng, xmin=0.0, xmax=1.0):\n",
    "\n",
    "        self.xmin = xmin\n",
    "        self.xmax = xmax\n",
    "        self.ng = ng\n",
    "        self.nx = nx\n",
    "\n",
    "        # python is zero-based.  Make easy intergers to know where the\n",
    "        # real data lives\n",
    "        self.ilo = ng\n",
    "        self.ihi = ng+nx-1\n",
    "\n",
    "        # physical coords -- cell-centered, left and right edges\n",
    "        self.dx = (xmax - xmin)/(nx)\n",
    "        self.x = xmin + (np.arange(nx+2*ng)-ng+0.5)*self.dx\n",
    "        self.xl = xmin + (np.arange(nx+2*ng)-ng)*self.dx\n",
    "        self.xr = xmin + (np.arange(nx+2*ng)-ng+1.0)*self.dx\n",
    "\n",
    "        # storage for the solution\n",
    "        self.a = self.scratch_array()\n",
    "        self.ainit = self.scratch_array()\n",
    "\n",
    "    def period(self, u):\n",
    "        \"\"\" return the period for advection with velocity u \"\"\"\n",
    "        return (self.xmax - self.xmin)/u\n",
    "\n",
    "    def scratch_array(self):\n",
    "        \"\"\" return a scratch array dimensioned for our grid \"\"\"\n",
    "        return np.zeros((self.nx+2*self.ng), dtype=np.float64)\n",
    "\n",
    "    def fill_BCs(self, atmp):\n",
    "        \"\"\" fill all single ghostcell with periodic boundary conditions \"\"\"\n",
    "\n",
    "        # left boundary\n",
    "        for n in range(self.ng):\n",
    "            atmp[self.ilo-1-n] = atmp[self.ihi-n]\n",
    "\n",
    "        # right boundary\n",
    "        for n in range(self.ng):\n",
    "            atmp[self.ihi+1+n] = atmp[self.ilo+n]\n",
    "\n",
    "    def init_cond(self, ic):\n",
    "\n",
    "        if ic == \"tophat\":\n",
    "            self.a[np.logical_and(self.x >= 0.333, self.x <= 0.666)] = 1.0\n",
    "        elif ic == \"sine\":\n",
    "            self.a[:] = np.sin(2.0*np.pi*self.x/(self.xmax-self.xmin))\n",
    "        elif ic == \"gaussian\":\n",
    "            self.a[:] = 1.0 + np.exp(-60.0*(self.x - 0.5)**2)\n",
    "\n",
    "        self.ainit[:] = self.a[:]\n",
    "\n",
    "    def norm(self, e):\n",
    "        \"\"\" return the norm of quantity e which lives on the grid \"\"\"\n",
    "        if not len(e) == (2*self.ng + self.nx):\n",
    "            return None\n",
    "\n",
    "        return np.sqrt(self.dx*np.sum(e[self.ilo:self.ihi+1]**2))"
   ]
  },
  {
   "cell_type": "markdown",
   "metadata": {},
   "source": [
    "Now, here's the routine that does the flux update as described in the problem"
   ]
  },
  {
   "cell_type": "code",
   "execution_count": 8,
   "metadata": {
    "collapsed": true
   },
   "outputs": [],
   "source": [
    "def flux_update(gr, u, a):\n",
    "\n",
    "    # slope\n",
    "    da = gr.scratch_array()\n",
    "    da[gr.ilo-1:gr.ihi+2] = 0.5*(a[gr.ilo:gr.ihi+3] - a[gr.ilo-2:gr.ihi+1])\n",
    "\n",
    "    # upwinding means that we take the left state always\n",
    "    aint = gr.scratch_array()\n",
    "    aint[gr.ilo:gr.ihi+2] = a[gr.ilo-1:gr.ihi+1] + 0.5*da[gr.ilo-1:gr.ihi+1]\n",
    "\n",
    "    flux_diff = gr.scratch_array()\n",
    "    flux_diff[gr.ilo:gr.ihi+1] = u*(aint[gr.ilo:gr.ihi+1] - aint[gr.ilo+1:gr.ihi+2])/gr.dx\n",
    "\n",
    "    return flux_diff"
   ]
  },
  {
   "cell_type": "markdown",
   "metadata": {},
   "source": [
    "Finally, here's the main driver that implements RK-2 integration"
   ]
  },
  {
   "cell_type": "code",
   "execution_count": 9,
   "metadata": {
    "collapsed": true
   },
   "outputs": [],
   "source": [
    "def mol_update(C, u, nx, num_periods=1, init_cond=\"gaussian\"):\n",
    "\n",
    "    # create a grid\n",
    "    gr = FVGrid(nx, ng=2)\n",
    "\n",
    "    tmax = num_periods*gr.period(u)\n",
    "\n",
    "    # setup initial conditions\n",
    "    gr.init_cond(init_cond)\n",
    "\n",
    "    # compute the timestep\n",
    "    dt = C*gr.dx/u\n",
    "\n",
    "    t = 0.0\n",
    "    while t < tmax:\n",
    "\n",
    "        if t + dt > tmax:\n",
    "            dt = tmax - t\n",
    "\n",
    "        # second-order RK integration\n",
    "        gr.fill_BCs(gr.a)\n",
    "        k1 = flux_update(gr, u, gr.a)\n",
    "\n",
    "        atmp = gr.scratch_array()\n",
    "        atmp[:] = gr.a[:] + 0.5*dt*k1[:]\n",
    "\n",
    "        gr.fill_BCs(atmp)\n",
    "        k2 = flux_update(gr, u, atmp)\n",
    "\n",
    "        gr.a[:] += dt*k2[:]\n",
    "\n",
    "        t += dt\n",
    "\n",
    "    return gr\n"
   ]
  },
  {
   "cell_type": "markdown",
   "metadata": {},
   "source": [
    "Here's Gaussian initial conditions"
   ]
  },
  {
   "cell_type": "code",
   "execution_count": 10,
   "metadata": {},
   "outputs": [
    {
     "data": {
      "text/plain": [
       "[<matplotlib.lines.Line2D at 0x7f04a4456c18>]"
      ]
     },
     "execution_count": 10,
     "metadata": {},
     "output_type": "execute_result"
    },
    {
     "data": {
      "image/png": "[encoded data removed]",
      "text/plain": [
       "<matplotlib.figure.Figure at 0x7f04a4456cc0>"
      ]
     },
     "metadata": {},
     "output_type": "display_data"
    }
   ],
   "source": [
    "C = 0.5\n",
    "u = 1.0\n",
    "nx = 64\n",
    "\n",
    "gr = mol_update(C, u, nx, num_periods=1.0, init_cond=\"gaussian\")\n",
    "\n",
    "plt.plot(gr.x, gr.a)\n",
    "plt.plot(gr.x, gr.ainit, ls=\":\")"
   ]
  },
  {
   "cell_type": "markdown",
   "metadata": {},
   "source": [
    "and tophat initial conditions"
   ]
  },
  {
   "cell_type": "code",
   "execution_count": 11,
   "metadata": {
    "scrolled": true
   },
   "outputs": [
    {
     "data": {
      "text/plain": [
       "[<matplotlib.lines.Line2D at 0x7f04a4431208>]"
      ]
     },
     "execution_count": 11,
     "metadata": {},
     "output_type": "execute_result"
    },
    {
     "data": {
      "image/png": "[encoded data removed]",
      "text/plain": [
       "<matplotlib.figure.Figure at 0x7f04a44311d0>"
      ]
     },
     "metadata": {},
     "output_type": "display_data"
    }
   ],
   "source": [
    "gr = mol_update(C, u, nx, num_periods=1.0, init_cond=\"tophat\")\n",
    "\n",
    "plt.plot(gr.x, gr.a)\n",
    "plt.plot(gr.x, gr.ainit, ls=\":\")"
   ]
  },
  {
   "cell_type": "markdown",
   "metadata": {},
   "source": [
    "<div style=\"background-color: powderblue; color: black; padding: 10px;\">\n",
    "\n",
    "**b.** Now replace the slope computation with a limited slope:\n",
    "  \\begin{equation}\n",
    "    \\left . \\frac{\\partial a}{\\partial x} \\right |_i = \\mathtt{minmod} \\left (\n",
    "    \\frac{a_i - a_{i-1}}{\\Delta x}, \\frac{a_{i+1} - a_i}{\\Delta x} \\right )\n",
    "  \\end{equation}\n",
    "  with\n",
    "  \\begin{equation}\n",
    "    \\mathtt{minmod}(a,b) = \\left \\{\n",
    "    \\begin{array}{ll}\n",
    "      a & \\mathit{if~} |a| < |b| \\mathrm{~and~} a\\cdot b > 0 \\\\\n",
    "      b & \\mathit{if~} |b| < |a| \\mathrm{~and~} a\\cdot b > 0 \\\\\n",
    "      0 & \\mathit{otherwise}\n",
    "    \\end{array}\n",
    "    \\right .\n",
    "  \\end{equation}\n",
    "\n",
    "  Redo the same runs as in part **a**."
   ]
  },
  {
   "cell_type": "markdown",
   "metadata": {},
   "source": [
    "We just need to rewrite the flux difference function.  Here's the new version"
   ]
  },
  {
   "cell_type": "code",
   "execution_count": 12,
   "metadata": {
    "collapsed": true
   },
   "outputs": [],
   "source": [
    "def flux_update(gr, u, a):\n",
    "\n",
    "    # slope\n",
    "    da1 = gr.scratch_array()\n",
    "    da1[gr.ilo-1:gr.ihi+2] = a[gr.ilo-1:gr.ihi+2] - a[gr.ilo-2:gr.ihi+1]\n",
    "\n",
    "    da2 = gr.scratch_array()\n",
    "    da2[gr.ilo-1:gr.ihi+2] = a[gr.ilo:gr.ihi+3] - a[gr.ilo-1:gr.ihi+2]\n",
    "\n",
    "    d2 = np.where(np.fabs(da1) < np.fabs(da2), da1, da2)\n",
    "    da = np.where(da1*da2 > 0.0, d2, 0.0)\n",
    "\n",
    "    # upwinding means that we take the left state always\n",
    "    aint = gr.scratch_array()\n",
    "    aint[gr.ilo:gr.ihi+2] = a[gr.ilo-1:gr.ihi+1] + 0.5*da[gr.ilo-1:gr.ihi+1]\n",
    "\n",
    "    flux_diff = gr.scratch_array()\n",
    "    flux_diff[gr.ilo:gr.ihi+1] = u*(aint[gr.ilo:gr.ihi+1] - aint[gr.ilo+1:gr.ihi+2])/gr.dx\n",
    "\n",
    "    return flux_diff"
   ]
  },
  {
   "cell_type": "markdown",
   "metadata": {},
   "source": [
    "Our Gaussian won't change that much except at the peak"
   ]
  },
  {
   "cell_type": "code",
   "execution_count": 13,
   "metadata": {},
   "outputs": [
    {
     "data": {
      "text/plain": [
       "[<matplotlib.lines.Line2D at 0x7f04a4431048>]"
      ]
     },
     "execution_count": 13,
     "metadata": {},
     "output_type": "execute_result"
    },
    {
     "data": {
      "image/png": "[encoded data removed]",
      "text/plain": [
       "<matplotlib.figure.Figure at 0x7f04a4456390>"
      ]
     },
     "metadata": {},
     "output_type": "display_data"
    }
   ],
   "source": [
    "gr = mol_update(C, u, nx, num_periods=1.0, init_cond=\"gaussian\")\n",
    "\n",
    "plt.plot(gr.x, gr.a)\n",
    "plt.plot(gr.x, gr.ainit, ls=\":\")"
   ]
  },
  {
   "cell_type": "markdown",
   "metadata": {},
   "source": [
    "But for the tophat, we should get rid of the oscillations"
   ]
  },
  {
   "cell_type": "code",
   "execution_count": 14,
   "metadata": {},
   "outputs": [
    {
     "data": {
      "text/plain": [
       "[<matplotlib.lines.Line2D at 0x7f04a44566a0>]"
      ]
     },
     "execution_count": 14,
     "metadata": {},
     "output_type": "execute_result"
    },
    {
     "data": {
      "image/png": "[encoded data removed]",
      "text/plain": [
       "<matplotlib.figure.Figure at 0x7f04a4535908>"
      ]
     },
     "metadata": {},
     "output_type": "display_data"
    }
   ],
   "source": [
    "gr = mol_update(C, u, nx, num_periods=1.0, init_cond=\"tophat\")\n",
    "\n",
    "plt.plot(gr.x, gr.a)\n",
    "plt.plot(gr.x, gr.ainit, ls=\":\")"
   ]
  },
  {
   "cell_type": "markdown",
   "metadata": {},
   "source": [
    "<div style=\"background-color: powderblue; color: black; padding: 10px;\">\n",
    "\n",
    "\n",
    "**c.** Measure the convergence of your solver.  Since the linear advection\n",
    "  equation should not change after one period, you can compute the \n",
    "  error after advecting as:\n",
    "  \\begin{equation}\n",
    "    \\epsilon = \\| a_\\mathrm{final} - a_\\mathrm{initial} \\|\n",
    "  \\end{equation}\n",
    "  where $\\| . \\|$ is a norm, as discussed in class, and final and\n",
    "  initial refer to the solution after one period and the initial\n",
    "  conditions, respectively.\n",
    "\n",
    "  Plot $\\epsilon$ vs. $\\Delta x$ on a log-log plot for several values\n",
    "  of $\\Delta x$ for both the tophat and Gaussian, using the slope\n",
    "  limited method from part **b**."
   ]
  },
  {
   "cell_type": "code",
   "execution_count": 15,
   "metadata": {
    "collapsed": true
   },
   "outputs": [],
   "source": [
    "Ns = [16, 32, 64, 128, 256, 512, 1024]\n",
    "err_gauss = []\n",
    "err_tophat = []\n",
    "for nx in Ns:\n",
    "    gr = mol_update(C, u, nx, num_periods=1.0, init_cond=\"tophat\")\n",
    "    err_tophat.append(gr.norm(gr.a - gr.ainit))\n",
    "\n",
    "    gr = mol_update(C, u, nx, num_periods=1.0, init_cond=\"gaussian\")\n",
    "    err_gauss.append(gr.norm(gr.a - gr.ainit))\n",
    "    "
   ]
  },
  {
   "cell_type": "code",
   "execution_count": 16,
   "metadata": {},
   "outputs": [
    {
     "data": {
      "text/plain": [
       "(0.001, 1)"
      ]
     },
     "execution_count": 16,
     "metadata": {},
     "output_type": "execute_result"
    },
    {
     "data": {
      "image/png": "[encoded data removed]",
      "text/plain": [
       "<matplotlib.figure.Figure at 0x7f04a420a780>"
      ]
     },
     "metadata": {},
     "output_type": "display_data"
    }
   ],
   "source": [
    "plt.scatter(Ns, err_gauss, label=\"gaussian\")\n",
    "plt.scatter(Ns, err_tophat, label=\"tophat\")\n",
    "\n",
    "# plot a trend line\n",
    "N = np.asarray(Ns)\n",
    "err = np.asarray(err_gauss)\n",
    "plt.plot(N, err[-1]*(N[-1]/N)**2)\n",
    "         \n",
    "ax = plt.gca()\n",
    "ax.set_xscale(\"log\")\n",
    "ax.set_yscale(\"log\")\n",
    "plt.legend(frameon=False)\n",
    "plt.ylim(1.e-3, 1)"
   ]
  },
  {
   "cell_type": "markdown",
   "metadata": {},
   "source": [
    "<div style=\"background-color: powderblue; color: black; padding: 10px;\">\n",
    "\n",
    "3. _Nonlinear hyperbolic equations_  In this problem we look\n",
    "  at several first-order finite-difference methods for Burger's\n",
    "  equation:\n",
    "\\begin{equation}\n",
    "\\label{burger1}\n",
    "u_t + u u_x = 0\n",
    "\\end{equation}\n",
    "This is a nonlinear equation.  \n",
    "In conservative form, this appears as\n",
    "\\begin{equation}\n",
    "\\label{burger2}\n",
    "u_t + \\left [ \\frac{1}{2} u^2 \\right ]_x = 0\n",
    "\\end{equation}\n",
    "Although these forms are analytically equivalent, the numerical solutions\n",
    "will differ.\n",
    "</div>"
   ]
  },
  {
   "cell_type": "markdown",
   "metadata": {},
   "source": [
    "<div style=\"background-color: powderblue; color: black; padding: 10px;\">\n",
    "\n",
    "**a.** Using first-order upwinding, we can difference\n",
    "the first form as\n",
    "\\begin{equation}\n",
    "u_{i}^{n+1} = u_i^n - \\frac{\\Delta t}{\\Delta x} u_i^n (u_i^n - u_{i-1}^n)\n",
    "\\end{equation}\n",
    "This is valid as long as $u_i^n > 0$.  Write a program to solve this\n",
    "equation with initial conditions:\n",
    "\\begin{equation}\n",
    "u(x,t=0) = \\bigg \\{ \\begin{array}{cc} 2 & \\mathrm{if~} x < 0.5 \\\\\n",
    "                                      1 & \\mathrm{if~} x \\ge 0.5 \\\\\n",
    "                    \\end{array}\n",
    "\\end{equation}\n",
    "and outflow boundary conditions.  What type of solution do you see?\n",
    "Also run it with:\n",
    "\\begin{equation}\n",
    "u(x,t=0) = \\bigg \\{ \\begin{array}{cc} 1 & \\mathrm{if~} x < 0.5 \\\\\n",
    "                                      2 & \\mathrm{if~} x \\ge 0.5 \\\\\n",
    "                    \\end{array}\n",
    "\\end{equation}\n",
    "Now what does the solution look like?\n",
    "\n",
    "<p>Important: This is a non-linear equation---make sure you use the\n",
    "proper CFL condition for this method.  This means: pick a value for $C$,\n",
    "then evaluate $\\Delta t = C \\Delta x / \\max_i\\{u\\}$\n",
    "</div>"
   ]
  },
  {
   "cell_type": "markdown",
   "metadata": {},
   "source": [
    "Here's our grid class.  It is much like that in problem 1, except for the treatment of the boundary conditions."
   ]
  },
  {
   "cell_type": "code",
   "execution_count": 17,
   "metadata": {
    "collapsed": true
   },
   "outputs": [],
   "source": [
    "class CCFDgrid(object):\n",
    "\n",
    "    def __init__(self, nx, ng, xmin=0.0, xmax=1.0):\n",
    "\n",
    "        self.xmin = xmin\n",
    "        self.xmax = xmax\n",
    "        self.ng = ng\n",
    "        self.nx = nx\n",
    "\n",
    "        # python is zero-based.  Make easy intergers to know where the\n",
    "        # real data lives\n",
    "        self.ilo = ng\n",
    "        self.ihi = ng+nx-1\n",
    "\n",
    "        # physical coords -- cell-centered\n",
    "        self.dx = (xmax - xmin)/(nx)\n",
    "        self.x = xmin + (np.arange(nx+2*ng)-ng+0.5)*self.dx\n",
    "\n",
    "        # storage for the solution\n",
    "        self.u = self.scratch_array()\n",
    "        self.uinit = self.scratch_array()\n",
    "\n",
    "    def scratch_array(self):\n",
    "        \"\"\" return a scratch array dimensioned for our grid \"\"\"\n",
    "        return np.zeros((self.nx+2*self.ng), dtype=np.float64)\n",
    "\n",
    "    def fill_BCs(self):\n",
    "        \"\"\" fill the a single ghostcell with Neuamnn BCs \"\"\"\n",
    "        self.u[self.ilo-1] = self.u[self.ilo]\n",
    "        self.u[self.ihi+1] = self.u[self.ihi]"
   ]
  },
  {
   "cell_type": "markdown",
   "metadata": {},
   "source": [
    "<div style=\"background-color: powderblue; color: black; padding: 10px;\">\n",
    "**b.** Now difference the second form as\n",
    "\\begin{equation}\n",
    "u_{i}^{n+1} = u_i^n - \\frac{\\Delta t}{\\Delta x} \\left ( \\frac{1}{2} (u_i^n)^2 \n",
    " - \\frac{1}{2} (u_{i-1}^n)^2 \\right )\n",
    "\\end{equation}\n",
    "Write a program to solve this, and run it on the same initial data as\n",
    "in part {\\bf a}.  Note that both of these discretizations assume that\n",
    "$u > 0$.\n",
    "\n",
    "<p>How do the solutions differ for the two discretizations?  One of the\n",
    "initial conditions generates a shock---measure its speed for each\n",
    "method.  How does the shock speed differ with resolution?  Which\n",
    "method gets the shock speed correct?  Why? Present your results at 3\n",
    "different grid resolutions."
   ]
  },
  {
   "cell_type": "markdown",
   "metadata": {},
   "source": [
    "We'll write the solvers for parts **a** and **b** in a single routine:"
   ]
  },
  {
   "cell_type": "code",
   "execution_count": 18,
   "metadata": {
    "collapsed": true
   },
   "outputs": [],
   "source": [
    "def evolve(nx, C, tmax, conservative=True, init=\"shock\"):\n",
    "\n",
    "    ng = 1\n",
    "\n",
    "    # create the grid\n",
    "    g = CCFDgrid(nx, ng)\n",
    "\n",
    "    # initial conditions\n",
    "    if init == \"shock\":\n",
    "        g.u[:] = 1.0\n",
    "        g.u[g.x < 0.5] = 2.0\n",
    "\n",
    "    elif init == \"rarefaction\":\n",
    "        g.u[:] = 1.0\n",
    "        g.u[g.x > 0.5] = 2.0\n",
    "\n",
    "\n",
    "    t = 0.0\n",
    "\n",
    "    # fill the boundary conditions\n",
    "    g.fill_BCs()\n",
    "\n",
    "    g.uinit[:] = g.u[:]\n",
    "\n",
    "    # evolution loop\n",
    "    unew = g.scratch_array()\n",
    "\n",
    "    while t < tmax:\n",
    "\n",
    "        # timestep\n",
    "        dt = C*g.dx/max(g.u[g.ilo:g.ihi+1])\n",
    "\n",
    "        # make sure we end right at tmax\n",
    "        if t + dt > tmax:\n",
    "            dt = tmax - t\n",
    "\n",
    "        # loop over zones\n",
    "        for i in range(g.ilo, g.ihi+1):\n",
    "            if conservative:\n",
    "                unew[i] = g.u[i] - dt*(0.5*g.u[i]**2 - 0.5*g.u[i-1]**2)/g.dx\n",
    "            else:\n",
    "                unew[i] = g.u[i] - dt*g.u[i]*(g.u[i] - g.u[i-1])/g.dx\n",
    "\n",
    "        # store the updated solution\n",
    "        g.u[:] = unew[:]\n",
    "\n",
    "        # fill the boundary conditions\n",
    "        g.fill_BCs()\n",
    "\n",
    "        t += dt\n",
    "\n",
    "    return g"
   ]
  },
  {
   "cell_type": "markdown",
   "metadata": {},
   "source": [
    "Now... we'll look at the rarefaction stuff together"
   ]
  },
  {
   "cell_type": "code",
   "execution_count": 19,
   "metadata": {
    "collapsed": true
   },
   "outputs": [],
   "source": [
    "def rarefaction_test(nx, C=0.5):\n",
    "    \"\"\"compare the conservative and non-conservative method on the\n",
    "    rarefaction initial conditions\"\"\"\n",
    "\n",
    "    plt.clf()\n",
    "\n",
    "    tmax1 = 0.3\n",
    "\n",
    "    gc = evolve(nx, C, tmax1, conservative=True, init=\"rarefaction\")\n",
    "    gnc = evolve(nx, C, tmax1, conservative=False, init=\"rarefaction\")\n",
    "\n",
    "    plt.plot(gc.x[gc.ilo:gc.ihi+1], gc.u[gc.ilo:gc.ihi+1],\n",
    "             color=\"C0\", label=\"conservative\")\n",
    "    plt.plot(gnc.x[gnc.ilo:gnc.ihi+1], gnc.u[gnc.ilo:gnc.ihi+1],\n",
    "             color=\"C1\", label=\"non-conservative\")\n",
    "\n",
    "\n",
    "    tmax0 = 0.1\n",
    "\n",
    "    gc = evolve(nx, C, tmax0, conservative=True, init=\"rarefaction\")\n",
    "    gnc = evolve(nx, C, tmax0, conservative=False, init=\"rarefaction\")\n",
    "\n",
    "    plt.plot(gc.x[gc.ilo:gc.ihi+1], gc.u[gc.ilo:gc.ihi+1],\n",
    "             color=\"C0\", ls=\"--\")\n",
    "    plt.plot(gnc.x[gnc.ilo:gnc.ihi+1], gnc.u[gnc.ilo:gnc.ihi+1],\n",
    "             color=\"C1\", ls=\"--\")\n",
    "\n",
    "\n",
    "    plt.plot(gnc.x, gc.uinit, color=\"0.5\", label=\"initial conditions\")\n",
    "\n",
    "    plt.xlim(0,1)\n",
    "\n",
    "    plt.legend(frameon=False, fontsize=\"small\")\n",
    "\n",
    "    plt.xlabel(\"x\")\n",
    "    plt.ylabel(\"u\")"
   ]
  },
  {
   "cell_type": "code",
   "execution_count": 20,
   "metadata": {},
   "outputs": [
    {
     "data": {
      "image/png": "[encoded data removed]",
      "text/plain": [
       "<matplotlib.figure.Figure at 0x7f04a45ea630>"
      ]
     },
     "metadata": {},
     "output_type": "display_data"
    }
   ],
   "source": [
    "rarefaction_test(64)"
   ]
  },
  {
   "cell_type": "markdown",
   "metadata": {},
   "source": [
    "and the shock initial conditions.  We'll do a finite-difference to find the shock speeds.  We know the analytic value of the shock speed,\n",
    "$$S = \\frac{1}{2}(u_l + u_r)$$\n",
    "Which is 1.5 for our initial conditions."
   ]
  },
  {
   "cell_type": "code",
   "execution_count": 21,
   "metadata": {
    "collapsed": true
   },
   "outputs": [],
   "source": [
    "def shock_test(nx, C=0.5):\n",
    "    \"\"\"compare the conservative and non-conservative method on the\n",
    "    shock initial conditions\"\"\"\n",
    "\n",
    "    # analytic shock speed\n",
    "    S = 0.5*(1.0 + 2.0)\n",
    "\n",
    "    tmax1 = 0.3\n",
    "\n",
    "    plt.clf()\n",
    "\n",
    "    gc = evolve(nx, C, tmax1, conservative=True, init=\"shock\")\n",
    "    gnc = evolve(nx, C, tmax1, conservative=False, init=\"shock\")\n",
    "\n",
    "    # find the position of the shock and interpolate to find the x\n",
    "    idx = np.nonzero(gnc.u < S)[0][0]\n",
    "    m = (gnc.u[idx] - gnc.u[idx-1])/(gnc.x[idx] - gnc.x[idx-1])\n",
    "    x_shk1 = gnc.x[idx] + (S - gnc.u[idx])/m\n",
    "\n",
    "    plt.plot(gc.x[gc.ilo:gc.ihi+1], gc.u[gc.ilo:gc.ihi+1],\n",
    "             color=\"C0\", label=\"conservative\")\n",
    "    plt.plot(gnc.x[gnc.ilo:gnc.ihi+1], gnc.u[gnc.ilo:gnc.ihi+1],\n",
    "             color=\"C1\", label=\"non-conservative\")\n",
    "\n",
    "    # analytic shock position, assuming u_l = 2, u_r = 1, and initial\n",
    "    # discontinuity at 0.5\n",
    "    plt.plot([S*tmax1 + 0.5, S*tmax1 + 0.5], [1,2],\n",
    "             color=\"0.5\", ls=\":\", label=\"analytic shock position\")\n",
    "\n",
    "\n",
    "    tmax0 = 0.1\n",
    "\n",
    "    gc = evolve(nx, C, tmax0, conservative=True, init=\"shock\")\n",
    "    gnc = evolve(nx, C, tmax0, conservative=False, init=\"shock\")\n",
    "\n",
    "    idx = np.nonzero(gnc.u < S)[0][0]\n",
    "    m = (gnc.u[idx] - gnc.u[idx-1])/(gnc.x[idx] - gnc.x[idx-1])\n",
    "    x_shk0 = gnc.x[idx] + (S - gnc.u[idx])/m\n",
    "\n",
    "\n",
    "    # compute the shock speed via differencing\n",
    "    S_numerical = (x_shk1 - x_shk0)/(tmax1 - tmax0)\n",
    "\n",
    "    print(\"shock speeds: {}, {}, {}\".format(S_numerical, S, S_numerical - S))\n",
    "\n",
    "\n",
    "    plt.plot(gc.x[gc.ilo:gc.ihi+1], gc.u[gc.ilo:gc.ihi+1],\n",
    "             color=\"C0\", ls=\"--\")\n",
    "    plt.plot(gnc.x[gnc.ilo:gnc.ihi+1], gnc.u[gnc.ilo:gnc.ihi+1],\n",
    "             color=\"C1\", ls=\"--\")\n",
    "\n",
    "    plt.plot(gnc.x, gc.uinit, color=\"0.5\", label=\"initial conditions\")\n",
    "\n",
    "    plt.xlim(0,1)\n",
    "\n",
    "    plt.legend(frameon=False, fontsize=\"small\")\n",
    "\n",
    "    plt.xlabel(\"x\")\n",
    "    plt.ylabel(\"u\")\n"
   ]
  },
  {
   "cell_type": "code",
   "execution_count": 22,
   "metadata": {},
   "outputs": [
    {
     "name": "stdout",
     "output_type": "stream",
     "text": [
      "shock speeds: 1.4061502142973654, 1.5, -0.09384978570263458\n"
     ]
    },
    {
     "data": {
      "image/png": "[encoded data removed]",
      "text/plain": [
       "<matplotlib.figure.Figure at 0x7f04a40a3f28>"
      ]
     },
     "metadata": {},
     "output_type": "display_data"
    }
   ],
   "source": [
    "shock_test(64)"
   ]
  },
  {
   "cell_type": "markdown",
   "metadata": {},
   "source": [
    "Notice that the conservative method gets the shock speed correct, while the non-conservative version does not."
   ]
  },
  {
   "cell_type": "code",
   "execution_count": null,
   "metadata": {
    "collapsed": true
   },
   "outputs": [],
   "source": []
  }
 ],
 "metadata": {
  "kernelspec": {
   "display_name": "Python 3",
   "language": "python",
   "name": "python3"
  },
  "language_info": {
   "codemirror_mode": {
    "name": "ipython",
    "version": 3
   },
   "file_extension": ".py",
   "mimetype": "text/x-python",
   "name": "python",
   "nbconvert_exporter": "python",
   "pygments_lexer": "ipython3",
   "version": "3.6.2"
  }
 },
 "nbformat": 4,
 "nbformat_minor": 2
}
